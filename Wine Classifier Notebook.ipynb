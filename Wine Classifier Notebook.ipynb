{
 "cells": [
  {
   "attachments": {},
   "cell_type": "markdown",
   "metadata": {},
   "source": [
    "# Introduction"
   ]
  },
  {
   "attachments": {},
   "cell_type": "markdown",
   "metadata": {},
   "source": [
    "In this project, we will analyze and classify a wine color dataset. The dataset contains various wine parameters, such as acidity, alcohol content and pH. Our goal is to test different classification algorithms on two versions of this dataset: a less processed and a more processed version."
   ]
  },
  {
   "cell_type": "code",
   "execution_count": 1,
   "metadata": {},
   "outputs": [],
   "source": [
    "import pandas as pd\n",
    "import numpy as np\n",
    "from sklearn.model_selection import train_test_split\n",
    "from sklearn.preprocessing import StandardScaler, OneHotEncoder, MinMaxScaler\n",
    "from sklearn.decomposition import PCA\n",
    "from sklearn.tree import DecisionTreeClassifier\n",
    "from sklearn.naive_bayes import GaussianNB\n",
    "from sklearn.neighbors import KNeighborsClassifier\n",
    "from sklearn.neural_network import MLPClassifier\n",
    "from sklearn.metrics import accuracy_score, confusion_matrix\n",
    "import matplotlib.pyplot as plt\n",
    "import seaborn as sns\n",
    "from scipy import stats\n",
    "\n",
    "classifiers = []\n",
    "names = []"
   ]
  },
  {
   "attachments": {},
   "cell_type": "markdown",
   "metadata": {},
   "source": [
    "# Data"
   ]
  },
  {
   "attachments": {},
   "cell_type": "markdown",
   "metadata": {},
   "source": [
    "### Database presentation"
   ]
  },
  {
   "attachments": {},
   "cell_type": "markdown",
   "metadata": {},
   "source": [
    "First, we will load the data from the CSV file and take a look at it."
   ]
  },
  {
   "cell_type": "code",
   "execution_count": 2,
   "metadata": {},
   "outputs": [
    {
     "data": {
      "text/html": [
       "<div>\n",
       "<style scoped>\n",
       "    .dataframe tbody tr th:only-of-type {\n",
       "        vertical-align: middle;\n",
       "    }\n",
       "\n",
       "    .dataframe tbody tr th {\n",
       "        vertical-align: top;\n",
       "    }\n",
       "\n",
       "    .dataframe thead th {\n",
       "        text-align: right;\n",
       "    }\n",
       "</style>\n",
       "<table border=\"1\" class=\"dataframe\">\n",
       "  <thead>\n",
       "    <tr style=\"text-align: right;\">\n",
       "      <th></th>\n",
       "      <th>type</th>\n",
       "      <th>fixed acidity</th>\n",
       "      <th>volatile acidity</th>\n",
       "      <th>citric acid</th>\n",
       "      <th>residual sugar</th>\n",
       "      <th>chlorides</th>\n",
       "      <th>free sulfur dioxide</th>\n",
       "      <th>total sulfur dioxide</th>\n",
       "      <th>density</th>\n",
       "      <th>pH</th>\n",
       "      <th>sulphates</th>\n",
       "      <th>alcohol</th>\n",
       "      <th>quality</th>\n",
       "    </tr>\n",
       "  </thead>\n",
       "  <tbody>\n",
       "    <tr>\n",
       "      <th>0</th>\n",
       "      <td>white</td>\n",
       "      <td>7.0</td>\n",
       "      <td>0.27</td>\n",
       "      <td>0.36</td>\n",
       "      <td>20.7</td>\n",
       "      <td>0.045</td>\n",
       "      <td>45.0</td>\n",
       "      <td>170.0</td>\n",
       "      <td>1.0010</td>\n",
       "      <td>3.00</td>\n",
       "      <td>0.45</td>\n",
       "      <td>8.8</td>\n",
       "      <td>6</td>\n",
       "    </tr>\n",
       "    <tr>\n",
       "      <th>1</th>\n",
       "      <td>white</td>\n",
       "      <td>6.3</td>\n",
       "      <td>0.30</td>\n",
       "      <td>0.34</td>\n",
       "      <td>1.6</td>\n",
       "      <td>0.049</td>\n",
       "      <td>14.0</td>\n",
       "      <td>132.0</td>\n",
       "      <td>0.9940</td>\n",
       "      <td>3.30</td>\n",
       "      <td>0.49</td>\n",
       "      <td>9.5</td>\n",
       "      <td>6</td>\n",
       "    </tr>\n",
       "    <tr>\n",
       "      <th>2</th>\n",
       "      <td>white</td>\n",
       "      <td>8.1</td>\n",
       "      <td>0.28</td>\n",
       "      <td>0.40</td>\n",
       "      <td>6.9</td>\n",
       "      <td>0.050</td>\n",
       "      <td>30.0</td>\n",
       "      <td>97.0</td>\n",
       "      <td>0.9951</td>\n",
       "      <td>3.26</td>\n",
       "      <td>0.44</td>\n",
       "      <td>10.1</td>\n",
       "      <td>6</td>\n",
       "    </tr>\n",
       "    <tr>\n",
       "      <th>3</th>\n",
       "      <td>white</td>\n",
       "      <td>7.2</td>\n",
       "      <td>0.23</td>\n",
       "      <td>0.32</td>\n",
       "      <td>8.5</td>\n",
       "      <td>0.058</td>\n",
       "      <td>47.0</td>\n",
       "      <td>186.0</td>\n",
       "      <td>0.9956</td>\n",
       "      <td>3.19</td>\n",
       "      <td>0.40</td>\n",
       "      <td>9.9</td>\n",
       "      <td>6</td>\n",
       "    </tr>\n",
       "    <tr>\n",
       "      <th>4</th>\n",
       "      <td>white</td>\n",
       "      <td>7.2</td>\n",
       "      <td>0.23</td>\n",
       "      <td>0.32</td>\n",
       "      <td>8.5</td>\n",
       "      <td>0.058</td>\n",
       "      <td>47.0</td>\n",
       "      <td>186.0</td>\n",
       "      <td>0.9956</td>\n",
       "      <td>3.19</td>\n",
       "      <td>0.40</td>\n",
       "      <td>9.9</td>\n",
       "      <td>6</td>\n",
       "    </tr>\n",
       "  </tbody>\n",
       "</table>\n",
       "</div>"
      ],
      "text/plain": [
       "    type  fixed acidity  volatile acidity  citric acid  residual sugar  \\\n",
       "0  white            7.0              0.27         0.36            20.7   \n",
       "1  white            6.3              0.30         0.34             1.6   \n",
       "2  white            8.1              0.28         0.40             6.9   \n",
       "3  white            7.2              0.23         0.32             8.5   \n",
       "4  white            7.2              0.23         0.32             8.5   \n",
       "\n",
       "   chlorides  free sulfur dioxide  total sulfur dioxide  density    pH  \\\n",
       "0      0.045                 45.0                 170.0   1.0010  3.00   \n",
       "1      0.049                 14.0                 132.0   0.9940  3.30   \n",
       "2      0.050                 30.0                  97.0   0.9951  3.26   \n",
       "3      0.058                 47.0                 186.0   0.9956  3.19   \n",
       "4      0.058                 47.0                 186.0   0.9956  3.19   \n",
       "\n",
       "   sulphates  alcohol  quality  \n",
       "0       0.45      8.8        6  \n",
       "1       0.49      9.5        6  \n",
       "2       0.44     10.1        6  \n",
       "3       0.40      9.9        6  \n",
       "4       0.40      9.9        6  "
      ]
     },
     "execution_count": 2,
     "metadata": {},
     "output_type": "execute_result"
    }
   ],
   "source": [
    "data = pd.read_csv(\"winequalityN.csv\")\n",
    "data.head()"
   ]
  },
  {
   "attachments": {},
   "cell_type": "markdown",
   "metadata": {},
   "source": [
    "### Data preprocessing"
   ]
  },
  {
   "attachments": {},
   "cell_type": "markdown",
   "metadata": {},
   "source": [
    "In this section, we will check for missing values and errors in our dataset. If so, we will repair them appropriately."
   ]
  },
  {
   "attachments": {},
   "cell_type": "markdown",
   "metadata": {},
   "source": [
    "Checking for missing data:"
   ]
  },
  {
   "cell_type": "code",
   "execution_count": 3,
   "metadata": {},
   "outputs": [
    {
     "data": {
      "text/plain": [
       "type                     0\n",
       "fixed acidity           10\n",
       "volatile acidity         8\n",
       "citric acid              3\n",
       "residual sugar           2\n",
       "chlorides                2\n",
       "free sulfur dioxide      0\n",
       "total sulfur dioxide     0\n",
       "density                  0\n",
       "pH                       9\n",
       "sulphates                4\n",
       "alcohol                  0\n",
       "quality                  0\n",
       "dtype: int64"
      ]
     },
     "execution_count": 3,
     "metadata": {},
     "output_type": "execute_result"
    }
   ],
   "source": [
    "data.isnull().sum()"
   ]
  },
  {
   "cell_type": "code",
   "execution_count": 4,
   "metadata": {},
   "outputs": [
    {
     "name": "stdout",
     "output_type": "stream",
     "text": [
      "       type  fixed acidity  volatile acidity  citric acid  residual sugar  \\\n",
      "17    white            NaN             0.660         0.48             1.2   \n",
      "174   white            NaN             0.270         0.31            17.7   \n",
      "249   white            NaN             0.410         0.14            10.4   \n",
      "267   white            NaN             0.580         0.07             6.9   \n",
      "368   white            NaN             0.290         0.48             2.3   \n",
      "518   white            NaN             0.130         0.28             1.9   \n",
      "1079  white            NaN               NaN         0.29             6.2   \n",
      "2902  white            NaN             0.360         0.14             8.9   \n",
      "6428    red            NaN             0.440         0.09             2.2   \n",
      "6429    red            NaN             0.705         0.10             2.8   \n",
      "\n",
      "      chlorides  free sulfur dioxide  total sulfur dioxide  density    pH  \\\n",
      "17        0.029                 29.0                  75.0  0.98920  3.33   \n",
      "174       0.051                 33.0                 173.0  0.99900  3.09   \n",
      "249       0.037                 18.0                 119.0  0.99600  3.38   \n",
      "267       0.043                 34.0                 149.0  0.99440  3.34   \n",
      "368       0.049                 36.0                 178.0  0.99310  3.17   \n",
      "518       0.050                 20.0                  78.0  0.99180  3.43   \n",
      "1079      0.046                 29.0                 227.0  0.99520  3.29   \n",
      "2902      0.036                 38.0                 155.0  0.99622  3.27   \n",
      "6428      0.063                  9.0                  18.0  0.99444   NaN   \n",
      "6429      0.081                 13.0                  28.0  0.99631   NaN   \n",
      "\n",
      "      sulphates  alcohol  quality  \n",
      "17         0.39     12.8        8  \n",
      "174        0.64     10.2        5  \n",
      "249        0.45     10.0        5  \n",
      "267        0.57      9.7        5  \n",
      "368        0.64     10.6        6  \n",
      "518        0.64     10.8        6  \n",
      "1079       0.53     10.1        6  \n",
      "2902        NaN      9.4        5  \n",
      "6428       0.69     11.3        6  \n",
      "6429       0.66     10.2        5  \n"
     ]
    }
   ],
   "source": [
    "null_data = data.loc[data['fixed acidity'].isna()]\n",
    "print(null_data)"
   ]
  },
  {
   "attachments": {},
   "cell_type": "markdown",
   "metadata": {},
   "source": [
    "### Removing errors and missing data"
   ]
  },
  {
   "attachments": {},
   "cell_type": "markdown",
   "metadata": {},
   "source": [
    "We will prepare two sets of data: </br>\n",
    "\"dataLess\", in which we will remove rows that are missing, </br>\n",
    "\"dataMore\", in which we will fill in the gaps with the median of the data."
   ]
  },
  {
   "cell_type": "code",
   "execution_count": 5,
   "metadata": {},
   "outputs": [],
   "source": [
    "dataLess = data.copy()\n",
    "dataLess.dropna(inplace=True)\n",
    "dataMore = data.copy()\n",
    "dataMore.fillna(dataMore.median(numeric_only=True), inplace=True)"
   ]
  },
  {
   "cell_type": "code",
   "execution_count": 6,
   "metadata": {},
   "outputs": [
    {
     "data": {
      "text/html": [
       "<div>\n",
       "<style scoped>\n",
       "    .dataframe tbody tr th:only-of-type {\n",
       "        vertical-align: middle;\n",
       "    }\n",
       "\n",
       "    .dataframe tbody tr th {\n",
       "        vertical-align: top;\n",
       "    }\n",
       "\n",
       "    .dataframe thead th {\n",
       "        text-align: right;\n",
       "    }\n",
       "</style>\n",
       "<table border=\"1\" class=\"dataframe\">\n",
       "  <thead>\n",
       "    <tr style=\"text-align: right;\">\n",
       "      <th></th>\n",
       "      <th>type</th>\n",
       "      <th>fixed acidity</th>\n",
       "      <th>volatile acidity</th>\n",
       "      <th>citric acid</th>\n",
       "      <th>residual sugar</th>\n",
       "      <th>chlorides</th>\n",
       "      <th>free sulfur dioxide</th>\n",
       "      <th>total sulfur dioxide</th>\n",
       "      <th>density</th>\n",
       "      <th>pH</th>\n",
       "      <th>sulphates</th>\n",
       "      <th>alcohol</th>\n",
       "      <th>quality</th>\n",
       "    </tr>\n",
       "  </thead>\n",
       "  <tbody>\n",
       "    <tr>\n",
       "      <th>16</th>\n",
       "      <td>white</td>\n",
       "      <td>6.3</td>\n",
       "      <td>0.48</td>\n",
       "      <td>0.04</td>\n",
       "      <td>1.1</td>\n",
       "      <td>0.046</td>\n",
       "      <td>30.0</td>\n",
       "      <td>99.0</td>\n",
       "      <td>0.9928</td>\n",
       "      <td>3.24</td>\n",
       "      <td>0.36</td>\n",
       "      <td>9.6</td>\n",
       "      <td>6</td>\n",
       "    </tr>\n",
       "    <tr>\n",
       "      <th>17</th>\n",
       "      <td>white</td>\n",
       "      <td>NaN</td>\n",
       "      <td>0.66</td>\n",
       "      <td>0.48</td>\n",
       "      <td>1.2</td>\n",
       "      <td>0.029</td>\n",
       "      <td>29.0</td>\n",
       "      <td>75.0</td>\n",
       "      <td>0.9892</td>\n",
       "      <td>3.33</td>\n",
       "      <td>0.39</td>\n",
       "      <td>12.8</td>\n",
       "      <td>8</td>\n",
       "    </tr>\n",
       "    <tr>\n",
       "      <th>18</th>\n",
       "      <td>white</td>\n",
       "      <td>7.4</td>\n",
       "      <td>0.34</td>\n",
       "      <td>0.42</td>\n",
       "      <td>1.1</td>\n",
       "      <td>0.033</td>\n",
       "      <td>17.0</td>\n",
       "      <td>171.0</td>\n",
       "      <td>0.9917</td>\n",
       "      <td>3.12</td>\n",
       "      <td>0.53</td>\n",
       "      <td>11.3</td>\n",
       "      <td>6</td>\n",
       "    </tr>\n",
       "  </tbody>\n",
       "</table>\n",
       "</div>"
      ],
      "text/plain": [
       "     type  fixed acidity  volatile acidity  citric acid  residual sugar  \\\n",
       "16  white            6.3              0.48         0.04             1.1   \n",
       "17  white            NaN              0.66         0.48             1.2   \n",
       "18  white            7.4              0.34         0.42             1.1   \n",
       "\n",
       "    chlorides  free sulfur dioxide  total sulfur dioxide  density    pH  \\\n",
       "16      0.046                 30.0                  99.0   0.9928  3.24   \n",
       "17      0.029                 29.0                  75.0   0.9892  3.33   \n",
       "18      0.033                 17.0                 171.0   0.9917  3.12   \n",
       "\n",
       "    sulphates  alcohol  quality  \n",
       "16       0.36      9.6        6  \n",
       "17       0.39     12.8        8  \n",
       "18       0.53     11.3        6  "
      ]
     },
     "execution_count": 6,
     "metadata": {},
     "output_type": "execute_result"
    }
   ],
   "source": [
    "data.loc[16:18]"
   ]
  },
  {
   "cell_type": "code",
   "execution_count": 7,
   "metadata": {},
   "outputs": [
    {
     "data": {
      "text/html": [
       "<div>\n",
       "<style scoped>\n",
       "    .dataframe tbody tr th:only-of-type {\n",
       "        vertical-align: middle;\n",
       "    }\n",
       "\n",
       "    .dataframe tbody tr th {\n",
       "        vertical-align: top;\n",
       "    }\n",
       "\n",
       "    .dataframe thead th {\n",
       "        text-align: right;\n",
       "    }\n",
       "</style>\n",
       "<table border=\"1\" class=\"dataframe\">\n",
       "  <thead>\n",
       "    <tr style=\"text-align: right;\">\n",
       "      <th></th>\n",
       "      <th>type</th>\n",
       "      <th>fixed acidity</th>\n",
       "      <th>volatile acidity</th>\n",
       "      <th>citric acid</th>\n",
       "      <th>residual sugar</th>\n",
       "      <th>chlorides</th>\n",
       "      <th>free sulfur dioxide</th>\n",
       "      <th>total sulfur dioxide</th>\n",
       "      <th>density</th>\n",
       "      <th>pH</th>\n",
       "      <th>sulphates</th>\n",
       "      <th>alcohol</th>\n",
       "      <th>quality</th>\n",
       "    </tr>\n",
       "  </thead>\n",
       "  <tbody>\n",
       "    <tr>\n",
       "      <th>16</th>\n",
       "      <td>white</td>\n",
       "      <td>6.3</td>\n",
       "      <td>0.48</td>\n",
       "      <td>0.04</td>\n",
       "      <td>1.1</td>\n",
       "      <td>0.046</td>\n",
       "      <td>30.0</td>\n",
       "      <td>99.0</td>\n",
       "      <td>0.9928</td>\n",
       "      <td>3.24</td>\n",
       "      <td>0.36</td>\n",
       "      <td>9.6</td>\n",
       "      <td>6</td>\n",
       "    </tr>\n",
       "    <tr>\n",
       "      <th>18</th>\n",
       "      <td>white</td>\n",
       "      <td>7.4</td>\n",
       "      <td>0.34</td>\n",
       "      <td>0.42</td>\n",
       "      <td>1.1</td>\n",
       "      <td>0.033</td>\n",
       "      <td>17.0</td>\n",
       "      <td>171.0</td>\n",
       "      <td>0.9917</td>\n",
       "      <td>3.12</td>\n",
       "      <td>0.53</td>\n",
       "      <td>11.3</td>\n",
       "      <td>6</td>\n",
       "    </tr>\n",
       "  </tbody>\n",
       "</table>\n",
       "</div>"
      ],
      "text/plain": [
       "     type  fixed acidity  volatile acidity  citric acid  residual sugar  \\\n",
       "16  white            6.3              0.48         0.04             1.1   \n",
       "18  white            7.4              0.34         0.42             1.1   \n",
       "\n",
       "    chlorides  free sulfur dioxide  total sulfur dioxide  density    pH  \\\n",
       "16      0.046                 30.0                  99.0   0.9928  3.24   \n",
       "18      0.033                 17.0                 171.0   0.9917  3.12   \n",
       "\n",
       "    sulphates  alcohol  quality  \n",
       "16       0.36      9.6        6  \n",
       "18       0.53     11.3        6  "
      ]
     },
     "execution_count": 7,
     "metadata": {},
     "output_type": "execute_result"
    }
   ],
   "source": [
    "dataLess.loc[16:18]"
   ]
  },
  {
   "cell_type": "code",
   "execution_count": 8,
   "metadata": {},
   "outputs": [
    {
     "data": {
      "text/html": [
       "<div>\n",
       "<style scoped>\n",
       "    .dataframe tbody tr th:only-of-type {\n",
       "        vertical-align: middle;\n",
       "    }\n",
       "\n",
       "    .dataframe tbody tr th {\n",
       "        vertical-align: top;\n",
       "    }\n",
       "\n",
       "    .dataframe thead th {\n",
       "        text-align: right;\n",
       "    }\n",
       "</style>\n",
       "<table border=\"1\" class=\"dataframe\">\n",
       "  <thead>\n",
       "    <tr style=\"text-align: right;\">\n",
       "      <th></th>\n",
       "      <th>type</th>\n",
       "      <th>fixed acidity</th>\n",
       "      <th>volatile acidity</th>\n",
       "      <th>citric acid</th>\n",
       "      <th>residual sugar</th>\n",
       "      <th>chlorides</th>\n",
       "      <th>free sulfur dioxide</th>\n",
       "      <th>total sulfur dioxide</th>\n",
       "      <th>density</th>\n",
       "      <th>pH</th>\n",
       "      <th>sulphates</th>\n",
       "      <th>alcohol</th>\n",
       "      <th>quality</th>\n",
       "    </tr>\n",
       "  </thead>\n",
       "  <tbody>\n",
       "    <tr>\n",
       "      <th>16</th>\n",
       "      <td>white</td>\n",
       "      <td>6.3</td>\n",
       "      <td>0.48</td>\n",
       "      <td>0.04</td>\n",
       "      <td>1.1</td>\n",
       "      <td>0.046</td>\n",
       "      <td>30.0</td>\n",
       "      <td>99.0</td>\n",
       "      <td>0.9928</td>\n",
       "      <td>3.24</td>\n",
       "      <td>0.36</td>\n",
       "      <td>9.6</td>\n",
       "      <td>6</td>\n",
       "    </tr>\n",
       "    <tr>\n",
       "      <th>17</th>\n",
       "      <td>white</td>\n",
       "      <td>7.0</td>\n",
       "      <td>0.66</td>\n",
       "      <td>0.48</td>\n",
       "      <td>1.2</td>\n",
       "      <td>0.029</td>\n",
       "      <td>29.0</td>\n",
       "      <td>75.0</td>\n",
       "      <td>0.9892</td>\n",
       "      <td>3.33</td>\n",
       "      <td>0.39</td>\n",
       "      <td>12.8</td>\n",
       "      <td>8</td>\n",
       "    </tr>\n",
       "    <tr>\n",
       "      <th>18</th>\n",
       "      <td>white</td>\n",
       "      <td>7.4</td>\n",
       "      <td>0.34</td>\n",
       "      <td>0.42</td>\n",
       "      <td>1.1</td>\n",
       "      <td>0.033</td>\n",
       "      <td>17.0</td>\n",
       "      <td>171.0</td>\n",
       "      <td>0.9917</td>\n",
       "      <td>3.12</td>\n",
       "      <td>0.53</td>\n",
       "      <td>11.3</td>\n",
       "      <td>6</td>\n",
       "    </tr>\n",
       "  </tbody>\n",
       "</table>\n",
       "</div>"
      ],
      "text/plain": [
       "     type  fixed acidity  volatile acidity  citric acid  residual sugar  \\\n",
       "16  white            6.3              0.48         0.04             1.1   \n",
       "17  white            7.0              0.66         0.48             1.2   \n",
       "18  white            7.4              0.34         0.42             1.1   \n",
       "\n",
       "    chlorides  free sulfur dioxide  total sulfur dioxide  density    pH  \\\n",
       "16      0.046                 30.0                  99.0   0.9928  3.24   \n",
       "17      0.029                 29.0                  75.0   0.9892  3.33   \n",
       "18      0.033                 17.0                 171.0   0.9917  3.12   \n",
       "\n",
       "    sulphates  alcohol  quality  \n",
       "16       0.36      9.6        6  \n",
       "17       0.39     12.8        8  \n",
       "18       0.53     11.3        6  "
      ]
     },
     "execution_count": 8,
     "metadata": {},
     "output_type": "execute_result"
    }
   ],
   "source": [
    "dataMore.loc[16:18]"
   ]
  },
  {
   "attachments": {},
   "cell_type": "markdown",
   "metadata": {},
   "source": [
    "### Data processing"
   ]
  },
  {
   "attachments": {},
   "cell_type": "markdown",
   "metadata": {},
   "source": [
    "Now we will prepare two versions of the data: one less processed and the other more processed."
   ]
  },
  {
   "attachments": {},
   "cell_type": "markdown",
   "metadata": {},
   "source": [
    "Less processed version with changed type value to 0 and 1 and data standardization:"
   ]
  },
  {
   "cell_type": "code",
   "execution_count": 9,
   "metadata": {},
   "outputs": [],
   "source": [
    "dataLess = dataLess.replace({'type': {'white': 0, 'red': 1}})\n",
    "X_less = dataLess.drop('type', axis=1)\n",
    "y_less = dataLess['type']\n",
    "\n",
    "scaler = StandardScaler()\n",
    "X_less = scaler.fit_transform(X_less)"
   ]
  },
  {
   "attachments": {},
   "cell_type": "markdown",
   "metadata": {},
   "source": [
    "More processed version with changed type value to 0 and 1, standardization, PCA transformation and removal of outliers using z-score (interquartile range in this case is too restrictive and removes all rows with red wine):"
   ]
  },
  {
   "attachments": {},
   "cell_type": "markdown",
   "metadata": {},
   "source": [
    "Let's check if the set is balanced:"
   ]
  },
  {
   "cell_type": "code",
   "execution_count": 10,
   "metadata": {},
   "outputs": [
    {
     "data": {
      "image/png": "[encoded data removed]",
      "text/plain": [
       "<Figure size 432x288 with 1 Axes>"
      ]
     },
     "metadata": {
      "needs_background": "light"
     },
     "output_type": "display_data"
    },
    {
     "name": "stdout",
     "output_type": "stream",
     "text": [
      "Liczba wierszy z wartością 'white':  4898\n",
      "Liczba wierszy z wartością 'red':  1599\n"
     ]
    }
   ],
   "source": [
    "sns.countplot(x='type', data=dataMore)\n",
    "plt.show()\n",
    "numberOfRows = dataMore[dataMore['type'] == 'white'].shape[0]\n",
    "print(\"Number of rows with value 'white': \", numberOfRows)\n",
    "numberOfRows = dataMore[dataMore['type'] == 'red'].shape[0]\n",
    "print(\"Number of rows with value 'red': \", numberOfRows)"
   ]
  },
  {
   "attachments": {},
   "cell_type": "markdown",
   "metadata": {},
   "source": [
    "Let's remove the outliers and check again:"
   ]
  },
  {
   "cell_type": "code",
   "execution_count": 11,
   "metadata": {},
   "outputs": [
    {
     "data": {
      "image/png": "[encoded data removed]",
      "text/plain": [
       "<Figure size 432x288 with 1 Axes>"
      ]
     },
     "metadata": {
      "needs_background": "light"
     },
     "output_type": "display_data"
    },
    {
     "name": "stdout",
     "output_type": "stream",
     "text": [
      "Number of rows with value 'white':  4712\n",
      "Number of rows with value 'red' 1277\n"
     ]
    }
   ],
   "source": [
    "z_scores = np.abs(stats.zscore(dataMore.drop(columns=['type'])))\n",
    "threshold = 3  # threshold for outliers\n",
    "dataMore = dataMore[(z_scores < threshold).all(axis=1)]\n",
    "\n",
    "sns.countplot(x='type', data=dataMore)\n",
    "plt.show()\n",
    "numberOfRows = dataMore[dataMore['type'] == 'white'].shape[0]\n",
    "print(\"Number of rows with value 'white': \", numberOfRows)\n",
    "numberOfRows = dataMore[dataMore['type'] == 'red'].shape[0]\n",
    "print(\"Number of rows with value 'red'\", numberOfRows)"
   ]
  },
  {
   "attachments": {},
   "cell_type": "markdown",
   "metadata": {},
   "source": [
    "There is a disproportion in the data, but it is mildly unbalanced, so we will not equalize the sample sizes.\n"
   ]
  },
  {
   "attachments": {},
   "cell_type": "markdown",
   "metadata": {},
   "source": [
    "Standardization and PCA:"
   ]
  },
  {
   "cell_type": "code",
   "execution_count": 12,
   "metadata": {},
   "outputs": [],
   "source": [
    "dataMore = dataMore.replace({'type': {'white': 0, 'red': 1}})\n",
    "\n",
    "X_more = dataMore.drop('type', axis=1)\n",
    "y_more = dataMore['type']\n",
    "\n",
    "scaler = StandardScaler()\n",
    "X_more = scaler.fit_transform(X_more)\n",
    "\n",
    "pca = PCA(n_components=2)\n",
    "X_more = pca.fit_transform(X_more)"
   ]
  },
  {
   "attachments": {},
   "cell_type": "markdown",
   "metadata": {},
   "source": [
    "### Division into training and test set."
   ]
  },
  {
   "attachments": {},
   "cell_type": "markdown",
   "metadata": {},
   "source": [
    "Now we will split our dataset into training and testing sets in an 80/20 ratio. About 1300/1200 rows should be enough for us to test the models well."
   ]
  },
  {
   "cell_type": "code",
   "execution_count": 13,
   "metadata": {},
   "outputs": [],
   "source": [
    "X_train_less, X_test_less, y_train_less, y_test_less = train_test_split(X_less, y_less, test_size=0.2, random_state=269402)\n",
    "X_train_more, X_test_more, y_train_more, y_test_more = train_test_split(X_more, y_more, test_size=0.2, random_state=269402)"
   ]
  },
  {
   "attachments": {},
   "cell_type": "markdown",
   "metadata": {},
   "source": [
    "# Classification"
   ]
  },
  {
   "attachments": {},
   "cell_type": "markdown",
   "metadata": {},
   "source": [
    "In this section, we will test different classification algorithms on both versions of our dataset. For each classifier we will calculate accuracy and create an error matrix."
   ]
  },
  {
   "attachments": {},
   "cell_type": "markdown",
   "metadata": {},
   "source": [
    "### Decision tree"
   ]
  },
  {
   "attachments": {},
   "cell_type": "markdown",
   "metadata": {},
   "source": [
    "A less processed version"
   ]
  },
  {
   "cell_type": "code",
   "execution_count": 14,
   "metadata": {},
   "outputs": [],
   "source": [
    "# Decision tree with pruned branches\n",
    "dt_less_pruned = DecisionTreeClassifier(max_depth=3, random_state=269402)\n",
    "dt_less_pruned.fit(X_train_less, y_train_less)\n",
    "classifiers.append(dt_less_pruned)\n",
    "names.append(f\"Decision tree with pruned branches (less)\")\n",
    "\n",
    "\n",
    "# Larger decision tree (no depth limit)\n",
    "dt_less_large = DecisionTreeClassifier(random_state=269402)\n",
    "dt_less_large.fit(X_train_less, y_train_less)\n",
    "classifiers.append(dt_less_large)\n",
    "names.append(f\"Decision tree without limits (less)\");"
   ]
  },
  {
   "attachments": {},
   "cell_type": "markdown",
   "metadata": {},
   "source": [
    "A more processed version"
   ]
  },
  {
   "cell_type": "code",
   "execution_count": 15,
   "metadata": {},
   "outputs": [],
   "source": [
    "# Decision tree with pruned branches\n",
    "dt_more_pruned = DecisionTreeClassifier(max_depth=3, random_state=269402)\n",
    "dt_more_pruned.fit(X_train_more, y_train_more)\n",
    "classifiers.append(dt_more_pruned)\n",
    "names.append(f\"Decision tree with pruned branches (more)\")\n",
    "\n",
    "# Larger decision tree (no depth limit)\n",
    "dt_more_large = DecisionTreeClassifier(random_state=269402)\n",
    "dt_more_large.fit(X_train_more, y_train_more)\n",
    "classifiers.append(dt_more_large)\n",
    "names.append(f\"Decision tree without limits (more)\");"
   ]
  },
  {
   "attachments": {},
   "cell_type": "markdown",
   "metadata": {},
   "source": [
    "### Naive Bayes"
   ]
  },
  {
   "attachments": {},
   "cell_type": "markdown",
   "metadata": {},
   "source": [
    "A less processed version"
   ]
  },
  {
   "cell_type": "code",
   "execution_count": 16,
   "metadata": {},
   "outputs": [],
   "source": [
    "nb_less = GaussianNB()\n",
    "nb_less.fit(X_train_less, y_train_less)\n",
    "classifiers.append(nb_less)\n",
    "names.append(f\"Naive Bayes (less)\");"
   ]
  },
  {
   "attachments": {},
   "cell_type": "markdown",
   "metadata": {},
   "source": [
    "A more processed version"
   ]
  },
  {
   "cell_type": "code",
   "execution_count": 17,
   "metadata": {},
   "outputs": [],
   "source": [
    "nb_more = GaussianNB()\n",
    "nb_more.fit(X_train_more, y_train_more)\n",
    "classifiers.append(nb_more)\n",
    "names.append(f\"Naive Bayes (more)\");"
   ]
  },
  {
   "attachments": {},
   "cell_type": "markdown",
   "metadata": {},
   "source": [
    "### K-Nearest Neighbors"
   ]
  },
  {
   "cell_type": "code",
   "execution_count": 18,
   "metadata": {},
   "outputs": [],
   "source": [
    "k_values = [1, 3, 5, 7, 9]"
   ]
  },
  {
   "attachments": {},
   "cell_type": "markdown",
   "metadata": {},
   "source": [
    "A less processed version"
   ]
  },
  {
   "cell_type": "code",
   "execution_count": 19,
   "metadata": {},
   "outputs": [],
   "source": [
    "for k in k_values:\n",
    "    knn_clf = KNeighborsClassifier(n_neighbors=k)\n",
    "    knn_clf.fit(X_train_less, y_train_less)\n",
    "    classifiers.append(knn_clf)\n",
    "    names.append(f'KNN k={k} (less)')"
   ]
  },
  {
   "attachments": {},
   "cell_type": "markdown",
   "metadata": {},
   "source": [
    "A more processed version"
   ]
  },
  {
   "cell_type": "code",
   "execution_count": 20,
   "metadata": {},
   "outputs": [],
   "source": [
    "for k in k_values:\n",
    "    knn_clf = KNeighborsClassifier(n_neighbors=k)\n",
    "    knn_clf.fit(X_train_more, y_train_more)\n",
    "    classifiers.append(knn_clf)\n",
    "    names.append(f'KNN k={k} (more)')"
   ]
  },
  {
   "attachments": {},
   "cell_type": "markdown",
   "metadata": {},
   "source": [
    "### Neural network"
   ]
  },
  {
   "cell_type": "code",
   "execution_count": 21,
   "metadata": {},
   "outputs": [],
   "source": [
    "# Various topologies and learning configurations\n",
    "hidden_layer_sizes = [(50,), (100,), (150,)]\n",
    "activations = ['identity', 'logistic', 'tanh', 'relu']\n",
    "solvers = ['lbfgs', 'sgd', 'adam']\n",
    "alphas = [0.0001, 0.001, 0.01, 0.1]"
   ]
  },
  {
   "attachments": {},
   "cell_type": "markdown",
   "metadata": {},
   "source": [
    "A less processed version"
   ]
  },
  {
   "cell_type": "code",
   "execution_count": 22,
   "metadata": {},
   "outputs": [],
   "source": [
    "for hidden_layer_size in hidden_layer_sizes:\n",
    "    for activation in activations:\n",
    "        for solver in solvers:\n",
    "            for alpha in alphas:\n",
    "                mlp = MLPClassifier(hidden_layer_sizes=hidden_layer_size, activation=activation,\n",
    "                                    solver=solver, alpha=alpha, max_iter=500, random_state=269402)\n",
    "                mlp.fit(X_train_less, y_train_less)\n",
    "                classifiers.append(mlp)\n",
    "                names.append(f\"MLP ({hidden_layer_size}, {activation}, {solver}, {alpha}) (less)\")\n"
   ]
  },
  {
   "attachments": {},
   "cell_type": "markdown",
   "metadata": {},
   "source": [
    "A more processed version"
   ]
  },
  {
   "cell_type": "code",
   "execution_count": 24,
   "metadata": {},
   "outputs": [],
   "source": [
    "for hidden_layer_size in hidden_layer_sizes:\n",
    "    for activation in activations:\n",
    "        for solver in solvers:\n",
    "            for alpha in alphas:\n",
    "                mlp = MLPClassifier(hidden_layer_sizes=hidden_layer_size, activation=activation,\n",
    "                                    solver=solver, alpha=alpha, max_iter=15000, random_state=269402)\n",
    "                mlp.fit(X_train_more, y_train_more)\n",
    "                classifiers.append(mlp)\n",
    "                names.append(f\"MLP ({hidden_layer_size}, {activation}, {solver}, {alpha}) (more)\")\n"
   ]
  },
  {
   "attachments": {},
   "cell_type": "markdown",
   "metadata": {},
   "source": [
    "# Summary"
   ]
  },
  {
   "attachments": {},
   "cell_type": "markdown",
   "metadata": {},
   "source": [
    "In this section, we will compare the results obtained for different classifiers on both versions of the data. We will determine which of the classifiers achieved the best results."
   ]
  },
  {
   "cell_type": "code",
   "execution_count": 25,
   "metadata": {},
   "outputs": [
    {
     "data": {
      "text/plain": [
       "304"
      ]
     },
     "execution_count": 25,
     "metadata": {},
     "output_type": "execute_result"
    }
   ],
   "source": [
    "len(classifiers)"
   ]
  },
  {
   "attachments": {},
   "cell_type": "markdown",
   "metadata": {},
   "source": [
    "We created multiple classifiers, so let's see which ones had the highest accuracy."
   ]
  },
  {
   "cell_type": "code",
   "execution_count": 26,
   "metadata": {},
   "outputs": [],
   "source": [
    "results = {}\n",
    "for clf, name in zip(classifiers, names):\n",
    "    if \"less\" in name:\n",
    "        y_pred = clf.predict(X_test_less)\n",
    "        accuracy = accuracy_score(y_test_less, y_pred)\n",
    "    elif \"more\" in name:\n",
    "        y_pred = clf.predict(X_test_more)\n",
    "        accuracy = accuracy_score(y_test_more, y_pred)\n",
    "    results[name] = accuracy;"
   ]
  },
  {
   "attachments": {},
   "cell_type": "markdown",
   "metadata": {},
   "source": [
    "Let's analyze more processed data separately."
   ]
  },
  {
   "cell_type": "code",
   "execution_count": 27,
   "metadata": {},
   "outputs": [
    {
     "name": "stdout",
     "output_type": "stream",
     "text": [
      "KNN k=7 (more): 0.9816\n",
      "MLP ((100,), logistic, lbfgs, 0.1) (more): 0.9816\n",
      "MLP ((150,), identity, adam, 0.0001) (more): 0.9816\n",
      "MLP ((150,), identity, adam, 0.001) (more): 0.9816\n",
      "MLP ((150,), identity, adam, 0.01) (more): 0.9816\n",
      "MLP ((150,), identity, adam, 0.1) (more): 0.9816\n",
      "MLP ((150,), logistic, lbfgs, 0.001) (more): 0.9816\n",
      "MLP ((150,), relu, adam, 0.0001) (more): 0.9816\n",
      "MLP ((150,), relu, adam, 0.001) (more): 0.9816\n",
      "MLP ((150,), relu, adam, 0.01) (more): 0.9816\n",
      "KNN k=9 (more): 0.9808\n",
      "MLP ((50,), identity, lbfgs, 0.0001) (more): 0.9808\n",
      "MLP ((50,), identity, lbfgs, 0.001) (more): 0.9808\n",
      "MLP ((50,), identity, lbfgs, 0.01) (more): 0.9808\n",
      "MLP ((50,), identity, lbfgs, 0.1) (more): 0.9808\n",
      "MLP ((50,), identity, adam, 0.1) (more): 0.9808\n",
      "MLP ((50,), logistic, lbfgs, 0.001) (more): 0.9808\n",
      "MLP ((50,), logistic, adam, 0.1) (more): 0.9808\n",
      "MLP ((50,), tanh, sgd, 0.0001) (more): 0.9808\n",
      "MLP ((50,), tanh, sgd, 0.001) (more): 0.9808\n",
      "MLP ((50,), tanh, sgd, 0.01) (more): 0.9808\n",
      "MLP ((50,), tanh, sgd, 0.1) (more): 0.9808\n",
      "MLP ((50,), tanh, adam, 0.1) (more): 0.9808\n",
      "MLP ((50,), relu, lbfgs, 0.001) (more): 0.9808\n",
      "MLP ((50,), relu, adam, 0.0001) (more): 0.9808\n",
      "MLP ((50,), relu, adam, 0.001) (more): 0.9808\n",
      "MLP ((50,), relu, adam, 0.01) (more): 0.9808\n",
      "MLP ((50,), relu, adam, 0.1) (more): 0.9808\n",
      "MLP ((100,), identity, lbfgs, 0.0001) (more): 0.9808\n",
      "MLP ((100,), identity, lbfgs, 0.001) (more): 0.9808\n",
      "MLP ((100,), identity, lbfgs, 0.01) (more): 0.9808\n",
      "MLP ((100,), identity, lbfgs, 0.1) (more): 0.9808\n",
      "MLP ((150,), identity, lbfgs, 0.0001) (more): 0.9808\n",
      "MLP ((150,), identity, lbfgs, 0.001) (more): 0.9808\n",
      "MLP ((150,), identity, lbfgs, 0.01) (more): 0.9808\n",
      "MLP ((150,), identity, lbfgs, 0.1) (more): 0.9808\n",
      "MLP ((150,), logistic, lbfgs, 0.01) (more): 0.9808\n",
      "MLP ((150,), logistic, lbfgs, 0.1) (more): 0.9808\n",
      "MLP ((150,), logistic, adam, 0.0001) (more): 0.9808\n",
      "MLP ((150,), logistic, adam, 0.001) (more): 0.9808\n",
      "MLP ((150,), logistic, adam, 0.01) (more): 0.9808\n",
      "MLP ((150,), logistic, adam, 0.1) (more): 0.9808\n",
      "MLP ((150,), tanh, sgd, 0.0001) (more): 0.9808\n",
      "MLP ((150,), tanh, sgd, 0.001) (more): 0.9808\n",
      "MLP ((150,), tanh, sgd, 0.01) (more): 0.9808\n",
      "MLP ((150,), tanh, sgd, 0.1) (more): 0.9808\n",
      "MLP ((150,), tanh, adam, 0.0001) (more): 0.9808\n",
      "MLP ((150,), tanh, adam, 0.001) (more): 0.9808\n",
      "MLP ((150,), tanh, adam, 0.01) (more): 0.9808\n",
      "MLP ((150,), tanh, adam, 0.1) (more): 0.9808\n",
      "MLP ((150,), relu, adam, 0.1) (more): 0.9808\n",
      "MLP ((50,), identity, sgd, 0.0001) (more): 0.9800\n",
      "MLP ((50,), identity, sgd, 0.001) (more): 0.9800\n",
      "MLP ((50,), identity, sgd, 0.01) (more): 0.9800\n",
      "MLP ((50,), identity, sgd, 0.1) (more): 0.9800\n",
      "MLP ((50,), logistic, adam, 0.0001) (more): 0.9800\n",
      "MLP ((50,), logistic, adam, 0.001) (more): 0.9800\n",
      "MLP ((50,), logistic, adam, 0.01) (more): 0.9800\n",
      "MLP ((50,), tanh, adam, 0.0001) (more): 0.9800\n",
      "MLP ((50,), tanh, adam, 0.001) (more): 0.9800\n",
      "MLP ((50,), tanh, adam, 0.01) (more): 0.9800\n",
      "MLP ((100,), identity, sgd, 0.0001) (more): 0.9800\n",
      "MLP ((100,), identity, sgd, 0.001) (more): 0.9800\n",
      "MLP ((100,), identity, sgd, 0.01) (more): 0.9800\n",
      "MLP ((100,), identity, sgd, 0.1) (more): 0.9800\n",
      "MLP ((100,), identity, adam, 0.0001) (more): 0.9800\n",
      "MLP ((100,), identity, adam, 0.001) (more): 0.9800\n",
      "MLP ((100,), identity, adam, 0.01) (more): 0.9800\n",
      "MLP ((100,), identity, adam, 0.1) (more): 0.9800\n",
      "MLP ((100,), logistic, adam, 0.1) (more): 0.9800\n",
      "MLP ((100,), tanh, sgd, 0.0001) (more): 0.9800\n",
      "MLP ((100,), tanh, sgd, 0.001) (more): 0.9800\n",
      "MLP ((100,), tanh, sgd, 0.01) (more): 0.9800\n",
      "MLP ((100,), tanh, sgd, 0.1) (more): 0.9800\n",
      "MLP ((100,), tanh, adam, 0.0001) (more): 0.9800\n",
      "MLP ((100,), tanh, adam, 0.001) (more): 0.9800\n",
      "MLP ((100,), tanh, adam, 0.01) (more): 0.9800\n",
      "MLP ((100,), tanh, adam, 0.1) (more): 0.9800\n",
      "MLP ((100,), relu, adam, 0.0001) (more): 0.9800\n",
      "MLP ((100,), relu, adam, 0.001) (more): 0.9800\n",
      "MLP ((100,), relu, adam, 0.01) (more): 0.9800\n",
      "MLP ((100,), relu, adam, 0.1) (more): 0.9800\n",
      "MLP ((150,), identity, sgd, 0.0001) (more): 0.9800\n",
      "MLP ((150,), identity, sgd, 0.001) (more): 0.9800\n",
      "MLP ((150,), identity, sgd, 0.01) (more): 0.9800\n",
      "MLP ((150,), identity, sgd, 0.1) (more): 0.9800\n",
      "MLP ((150,), logistic, sgd, 0.0001) (more): 0.9800\n",
      "MLP ((150,), logistic, sgd, 0.001) (more): 0.9800\n",
      "MLP ((150,), logistic, sgd, 0.01) (more): 0.9800\n",
      "MLP ((150,), relu, sgd, 0.0001) (more): 0.9800\n",
      "MLP ((150,), relu, sgd, 0.001) (more): 0.9800\n",
      "MLP ((150,), relu, sgd, 0.01) (more): 0.9800\n",
      "MLP ((150,), relu, sgd, 0.1) (more): 0.9800\n",
      "MLP ((50,), identity, adam, 0.0001) (more): 0.9791\n",
      "MLP ((50,), identity, adam, 0.001) (more): 0.9791\n",
      "MLP ((50,), identity, adam, 0.01) (more): 0.9791\n",
      "MLP ((50,), logistic, lbfgs, 0.1) (more): 0.9791\n",
      "MLP ((50,), relu, sgd, 0.0001) (more): 0.9791\n",
      "MLP ((50,), relu, sgd, 0.001) (more): 0.9791\n",
      "MLP ((50,), relu, sgd, 0.01) (more): 0.9791\n",
      "MLP ((50,), relu, sgd, 0.1) (more): 0.9791\n",
      "MLP ((100,), logistic, lbfgs, 0.01) (more): 0.9791\n",
      "MLP ((100,), logistic, adam, 0.01) (more): 0.9791\n",
      "MLP ((100,), relu, lbfgs, 0.1) (more): 0.9791\n",
      "MLP ((150,), logistic, sgd, 0.1) (more): 0.9791\n",
      "MLP ((150,), tanh, lbfgs, 0.1) (more): 0.9791\n",
      "MLP ((150,), relu, lbfgs, 0.1) (more): 0.9791\n",
      "Naive Bayes (more): 0.9783\n",
      "KNN k=3 (more): 0.9783\n",
      "KNN k=5 (more): 0.9783\n",
      "MLP ((50,), logistic, sgd, 0.0001) (more): 0.9783\n",
      "MLP ((50,), logistic, sgd, 0.001) (more): 0.9783\n",
      "MLP ((50,), logistic, sgd, 0.01) (more): 0.9783\n",
      "MLP ((50,), logistic, sgd, 0.1) (more): 0.9783\n",
      "MLP ((100,), logistic, adam, 0.0001) (more): 0.9783\n",
      "MLP ((100,), logistic, adam, 0.001) (more): 0.9783\n",
      "MLP ((100,), tanh, lbfgs, 0.1) (more): 0.9783\n",
      "MLP ((100,), relu, lbfgs, 0.0001) (more): 0.9783\n",
      "MLP ((100,), relu, sgd, 0.0001) (more): 0.9783\n",
      "MLP ((100,), relu, sgd, 0.001) (more): 0.9783\n",
      "MLP ((100,), relu, sgd, 0.01) (more): 0.9783\n",
      "MLP ((100,), relu, sgd, 0.1) (more): 0.9783\n",
      "MLP ((50,), logistic, lbfgs, 0.01) (more): 0.9775\n",
      "MLP ((50,), relu, lbfgs, 0.0001) (more): 0.9775\n",
      "MLP ((50,), relu, lbfgs, 0.01) (more): 0.9775\n",
      "MLP ((50,), relu, lbfgs, 0.1) (more): 0.9775\n",
      "MLP ((100,), logistic, sgd, 0.0001) (more): 0.9775\n",
      "MLP ((100,), logistic, sgd, 0.001) (more): 0.9775\n",
      "Decision tree with pruned branches (more): 0.9766\n",
      "KNN k=1 (more): 0.9766\n",
      "MLP ((50,), tanh, lbfgs, 0.1) (more): 0.9766\n",
      "MLP ((100,), logistic, sgd, 0.01) (more): 0.9766\n",
      "MLP ((100,), logistic, sgd, 0.1) (more): 0.9766\n",
      "MLP ((100,), relu, lbfgs, 0.01) (more): 0.9766\n",
      "MLP ((150,), logistic, lbfgs, 0.0001) (more): 0.9766\n",
      "MLP ((150,), relu, lbfgs, 0.01) (more): 0.9766\n",
      "MLP ((100,), relu, lbfgs, 0.001) (more): 0.9758\n",
      "MLP ((150,), relu, lbfgs, 0.0001) (more): 0.9758\n",
      "MLP ((150,), relu, lbfgs, 0.001) (more): 0.9758\n",
      "MLP ((50,), logistic, lbfgs, 0.0001) (more): 0.9741\n",
      "MLP ((150,), tanh, lbfgs, 0.01) (more): 0.9741\n",
      "MLP ((100,), logistic, lbfgs, 0.001) (more): 0.9733\n",
      "MLP ((100,), tanh, lbfgs, 0.001) (more): 0.9733\n",
      "MLP ((150,), tanh, lbfgs, 0.0001) (more): 0.9733\n",
      "Decision tree without limits (more): 0.9725\n",
      "MLP ((50,), tanh, lbfgs, 0.01) (more): 0.9725\n",
      "MLP ((100,), tanh, lbfgs, 0.0001) (more): 0.9725\n",
      "MLP ((150,), tanh, lbfgs, 0.001) (more): 0.9725\n",
      "MLP ((100,), logistic, lbfgs, 0.0001) (more): 0.9708\n",
      "MLP ((50,), tanh, lbfgs, 0.001) (more): 0.9699\n",
      "MLP ((100,), tanh, lbfgs, 0.01) (more): 0.9699\n",
      "MLP ((50,), tanh, lbfgs, 0.0001) (more): 0.9674\n"
     ]
    }
   ],
   "source": [
    "resultsSorted = dict(sorted(results.items(), key=lambda item: item[1], reverse=True))\n",
    "for key, value in resultsSorted.items():\n",
    "    if \"more\" in key:\n",
    "        print(f\"{key}: {value:.4f}\")"
   ]
  },
  {
   "attachments": {},
   "cell_type": "markdown",
   "metadata": {},
   "source": [
    "The neural network coped with the problem very well. We can see that the selection of parameters did not play a major role here, all combinations obtained satisfactory results. KNN with seven and nine neighbors, also with very good results."
   ]
  },
  {
   "cell_type": "code",
   "execution_count": 28,
   "metadata": {},
   "outputs": [
    {
     "name": "stdout",
     "output_type": "stream",
     "text": [
      "Naive Bayes (more): 0.9783\n",
      "Decision tree with pruned branches (more): 0.9766\n",
      "Decision tree without limits (more): 0.9725\n"
     ]
    }
   ],
   "source": [
    "for key, value in resultsSorted.items():\n",
    "    if \"more\" in key:\n",
    "        if \"tree\" in key or \"Bayes\" in key:\n",
    "            print(f\"{key}: {value:.4f}\")"
   ]
  },
  {
   "attachments": {},
   "cell_type": "markdown",
   "metadata": {},
   "source": [
    "Naive Bayes and decision trees also performed well. Interestingly, limiting the tree slightly improved its performance."
   ]
  },
  {
   "attachments": {},
   "cell_type": "markdown",
   "metadata": {},
   "source": [
    "</br>"
   ]
  },
  {
   "attachments": {},
   "cell_type": "markdown",
   "metadata": {},
   "source": [
    "Now let's see less processed data."
   ]
  },
  {
   "cell_type": "code",
   "execution_count": 29,
   "metadata": {},
   "outputs": [
    {
     "name": "stdout",
     "output_type": "stream",
     "text": [
      "MLP ((50,), tanh, lbfgs, 0.1) (less): 0.9946\n",
      "MLP ((50,), logistic, lbfgs, 0.1) (less): 0.9938\n",
      "MLP ((50,), tanh, lbfgs, 0.0001) (less): 0.9938\n",
      "MLP ((50,), tanh, lbfgs, 0.001) (less): 0.9938\n",
      "MLP ((50,), tanh, lbfgs, 0.01) (less): 0.9938\n",
      "MLP ((100,), logistic, lbfgs, 0.1) (less): 0.9938\n",
      "MLP ((100,), tanh, lbfgs, 0.1) (less): 0.9938\n",
      "MLP ((150,), logistic, lbfgs, 0.1) (less): 0.9938\n",
      "MLP ((150,), tanh, lbfgs, 0.0001) (less): 0.9938\n",
      "MLP ((150,), tanh, lbfgs, 0.001) (less): 0.9938\n",
      "MLP ((150,), tanh, lbfgs, 0.01) (less): 0.9938\n",
      "MLP ((150,), tanh, lbfgs, 0.1) (less): 0.9938\n",
      "MLP ((150,), tanh, adam, 0.0001) (less): 0.9938\n",
      "MLP ((150,), tanh, adam, 0.001) (less): 0.9938\n",
      "MLP ((150,), tanh, adam, 0.01) (less): 0.9938\n",
      "MLP ((50,), tanh, adam, 0.0001) (less): 0.9930\n",
      "MLP ((50,), tanh, adam, 0.001) (less): 0.9930\n",
      "MLP ((50,), tanh, adam, 0.01) (less): 0.9930\n",
      "MLP ((50,), relu, lbfgs, 0.0001) (less): 0.9930\n",
      "MLP ((50,), relu, lbfgs, 0.01) (less): 0.9930\n",
      "MLP ((50,), relu, lbfgs, 0.1) (less): 0.9930\n",
      "MLP ((50,), relu, adam, 0.0001) (less): 0.9930\n",
      "MLP ((50,), relu, adam, 0.001) (less): 0.9930\n",
      "MLP ((50,), relu, adam, 0.1) (less): 0.9930\n",
      "MLP ((100,), tanh, lbfgs, 0.0001) (less): 0.9930\n",
      "MLP ((100,), tanh, lbfgs, 0.001) (less): 0.9930\n",
      "MLP ((100,), tanh, lbfgs, 0.01) (less): 0.9930\n",
      "MLP ((100,), tanh, adam, 0.0001) (less): 0.9930\n",
      "MLP ((100,), tanh, adam, 0.001) (less): 0.9930\n",
      "MLP ((100,), tanh, adam, 0.01) (less): 0.9930\n",
      "MLP ((100,), relu, adam, 0.0001) (less): 0.9930\n",
      "MLP ((100,), relu, adam, 0.001) (less): 0.9930\n",
      "MLP ((100,), relu, adam, 0.01) (less): 0.9930\n",
      "MLP ((150,), logistic, lbfgs, 0.01) (less): 0.9930\n",
      "MLP ((150,), relu, adam, 0.0001) (less): 0.9930\n",
      "MLP ((150,), relu, adam, 0.001) (less): 0.9930\n",
      "MLP ((150,), relu, adam, 0.01) (less): 0.9930\n",
      "KNN k=1 (less): 0.9923\n",
      "MLP ((50,), logistic, adam, 0.0001) (less): 0.9923\n",
      "MLP ((50,), logistic, adam, 0.001) (less): 0.9923\n",
      "MLP ((50,), tanh, adam, 0.1) (less): 0.9923\n",
      "MLP ((50,), relu, lbfgs, 0.001) (less): 0.9923\n",
      "MLP ((50,), relu, adam, 0.01) (less): 0.9923\n",
      "MLP ((100,), logistic, adam, 0.0001) (less): 0.9923\n",
      "MLP ((100,), logistic, adam, 0.001) (less): 0.9923\n",
      "MLP ((100,), logistic, adam, 0.01) (less): 0.9923\n",
      "MLP ((100,), tanh, adam, 0.1) (less): 0.9923\n",
      "MLP ((100,), relu, lbfgs, 0.1) (less): 0.9923\n",
      "MLP ((100,), relu, adam, 0.1) (less): 0.9923\n",
      "MLP ((150,), logistic, lbfgs, 0.0001) (less): 0.9923\n",
      "MLP ((150,), logistic, adam, 0.0001) (less): 0.9923\n",
      "MLP ((150,), logistic, adam, 0.001) (less): 0.9923\n",
      "MLP ((150,), logistic, adam, 0.01) (less): 0.9923\n",
      "MLP ((150,), tanh, adam, 0.1) (less): 0.9923\n",
      "MLP ((150,), relu, lbfgs, 0.1) (less): 0.9923\n",
      "MLP ((150,), relu, adam, 0.1) (less): 0.9923\n",
      "MLP ((50,), logistic, lbfgs, 0.0001) (less): 0.9915\n",
      "MLP ((50,), logistic, lbfgs, 0.001) (less): 0.9915\n",
      "MLP ((100,), relu, lbfgs, 0.0001) (less): 0.9915\n",
      "MLP ((100,), relu, sgd, 0.0001) (less): 0.9915\n",
      "MLP ((100,), relu, sgd, 0.001) (less): 0.9915\n",
      "MLP ((100,), relu, sgd, 0.01) (less): 0.9915\n",
      "MLP ((100,), relu, sgd, 0.1) (less): 0.9915\n",
      "KNN k=3 (less): 0.9907\n",
      "KNN k=5 (less): 0.9907\n",
      "KNN k=7 (less): 0.9907\n",
      "MLP ((50,), logistic, lbfgs, 0.01) (less): 0.9907\n",
      "MLP ((50,), logistic, adam, 0.01) (less): 0.9907\n",
      "MLP ((100,), relu, lbfgs, 0.001) (less): 0.9907\n",
      "MLP ((100,), relu, lbfgs, 0.01) (less): 0.9907\n",
      "MLP ((150,), logistic, lbfgs, 0.001) (less): 0.9907\n",
      "MLP ((150,), relu, lbfgs, 0.0001) (less): 0.9907\n",
      "MLP ((150,), relu, lbfgs, 0.001) (less): 0.9907\n",
      "MLP ((50,), logistic, adam, 0.1) (less): 0.9899\n",
      "MLP ((100,), logistic, lbfgs, 0.001) (less): 0.9899\n",
      "MLP ((100,), logistic, lbfgs, 0.01) (less): 0.9899\n",
      "MLP ((150,), identity, adam, 0.01) (less): 0.9899\n",
      "MLP ((150,), logistic, adam, 0.1) (less): 0.9899\n",
      "MLP ((150,), relu, lbfgs, 0.01) (less): 0.9899\n",
      "MLP ((150,), relu, sgd, 0.0001) (less): 0.9899\n",
      "MLP ((150,), relu, sgd, 0.001) (less): 0.9899\n",
      "MLP ((150,), relu, sgd, 0.01) (less): 0.9899\n",
      "MLP ((150,), relu, sgd, 0.1) (less): 0.9899\n",
      "MLP ((50,), identity, lbfgs, 0.0001) (less): 0.9892\n",
      "MLP ((50,), identity, lbfgs, 0.001) (less): 0.9892\n",
      "MLP ((50,), identity, lbfgs, 0.01) (less): 0.9892\n",
      "MLP ((50,), identity, lbfgs, 0.1) (less): 0.9892\n",
      "MLP ((50,), relu, sgd, 0.0001) (less): 0.9892\n",
      "MLP ((50,), relu, sgd, 0.001) (less): 0.9892\n",
      "MLP ((50,), relu, sgd, 0.01) (less): 0.9892\n",
      "MLP ((50,), relu, sgd, 0.1) (less): 0.9892\n",
      "MLP ((100,), identity, lbfgs, 0.0001) (less): 0.9892\n",
      "MLP ((100,), identity, lbfgs, 0.001) (less): 0.9892\n",
      "MLP ((100,), identity, lbfgs, 0.01) (less): 0.9892\n",
      "MLP ((100,), identity, lbfgs, 0.1) (less): 0.9892\n",
      "MLP ((100,), logistic, lbfgs, 0.0001) (less): 0.9892\n",
      "MLP ((150,), identity, lbfgs, 0.0001) (less): 0.9892\n",
      "MLP ((150,), identity, lbfgs, 0.001) (less): 0.9892\n",
      "MLP ((150,), identity, lbfgs, 0.01) (less): 0.9892\n",
      "MLP ((150,), identity, lbfgs, 0.1) (less): 0.9892\n",
      "MLP ((150,), identity, adam, 0.0001) (less): 0.9892\n",
      "MLP ((150,), identity, adam, 0.001) (less): 0.9892\n",
      "KNN k=9 (less): 0.9884\n",
      "MLP ((50,), identity, adam, 0.0001) (less): 0.9884\n",
      "MLP ((50,), identity, adam, 0.001) (less): 0.9884\n",
      "MLP ((50,), identity, adam, 0.01) (less): 0.9884\n",
      "MLP ((50,), identity, adam, 0.1) (less): 0.9884\n",
      "MLP ((100,), identity, adam, 0.0001) (less): 0.9884\n",
      "MLP ((100,), identity, adam, 0.001) (less): 0.9884\n",
      "MLP ((100,), identity, adam, 0.01) (less): 0.9884\n",
      "MLP ((100,), identity, adam, 0.1) (less): 0.9884\n",
      "MLP ((100,), logistic, adam, 0.1) (less): 0.9884\n",
      "MLP ((100,), tanh, sgd, 0.0001) (less): 0.9884\n",
      "MLP ((100,), tanh, sgd, 0.001) (less): 0.9884\n",
      "MLP ((100,), tanh, sgd, 0.01) (less): 0.9884\n",
      "MLP ((100,), tanh, sgd, 0.1) (less): 0.9884\n",
      "MLP ((150,), identity, adam, 0.1) (less): 0.9884\n",
      "MLP ((50,), tanh, sgd, 0.0001) (less): 0.9876\n",
      "MLP ((50,), tanh, sgd, 0.001) (less): 0.9876\n",
      "MLP ((50,), tanh, sgd, 0.01) (less): 0.9876\n",
      "MLP ((50,), tanh, sgd, 0.1) (less): 0.9876\n",
      "MLP ((100,), identity, sgd, 0.0001) (less): 0.9876\n",
      "MLP ((100,), identity, sgd, 0.001) (less): 0.9876\n",
      "MLP ((100,), identity, sgd, 0.01) (less): 0.9876\n",
      "MLP ((100,), identity, sgd, 0.1) (less): 0.9876\n",
      "MLP ((50,), identity, sgd, 0.0001) (less): 0.9861\n",
      "MLP ((50,), identity, sgd, 0.001) (less): 0.9861\n",
      "MLP ((50,), identity, sgd, 0.01) (less): 0.9861\n",
      "MLP ((50,), identity, sgd, 0.1) (less): 0.9861\n",
      "MLP ((150,), tanh, sgd, 0.0001) (less): 0.9861\n",
      "MLP ((150,), tanh, sgd, 0.001) (less): 0.9861\n",
      "MLP ((150,), tanh, sgd, 0.01) (less): 0.9861\n",
      "MLP ((150,), tanh, sgd, 0.1) (less): 0.9861\n",
      "MLP ((50,), logistic, sgd, 0.0001) (less): 0.9853\n",
      "MLP ((50,), logistic, sgd, 0.001) (less): 0.9853\n",
      "MLP ((50,), logistic, sgd, 0.01) (less): 0.9853\n",
      "MLP ((50,), logistic, sgd, 0.1) (less): 0.9853\n",
      "MLP ((150,), identity, sgd, 0.0001) (less): 0.9853\n",
      "MLP ((150,), identity, sgd, 0.001) (less): 0.9853\n",
      "MLP ((150,), identity, sgd, 0.01) (less): 0.9853\n",
      "MLP ((150,), identity, sgd, 0.1) (less): 0.9853\n",
      "MLP ((100,), logistic, sgd, 0.0001) (less): 0.9845\n",
      "MLP ((100,), logistic, sgd, 0.001) (less): 0.9845\n",
      "MLP ((100,), logistic, sgd, 0.01) (less): 0.9845\n",
      "MLP ((100,), logistic, sgd, 0.1) (less): 0.9845\n",
      "MLP ((150,), logistic, sgd, 0.0001) (less): 0.9845\n",
      "MLP ((150,), logistic, sgd, 0.001) (less): 0.9845\n",
      "MLP ((150,), logistic, sgd, 0.01) (less): 0.9845\n",
      "MLP ((150,), logistic, sgd, 0.1) (less): 0.9845\n",
      "Decision tree without limits (less): 0.9814\n",
      "Naive Bayes (less): 0.9760\n",
      "Decision tree with pruned branches (less): 0.9598\n"
     ]
    }
   ],
   "source": [
    "for key, value in resultsSorted.items():\n",
    "    if \"less\" in key:\n",
    "        print(f\"{key}: {value:.4f}\")"
   ]
  },
  {
   "attachments": {},
   "cell_type": "markdown",
   "metadata": {},
   "source": [
    "Here the situation is completely different. The results are better without z-score and PCA. Data standardization alone was sufficient in this case. Additionally, the best results were achieved by neural networks, although KNN, Trees and Bayes have an accuracy of over 95%."
   ]
  },
  {
   "cell_type": "code",
   "execution_count": 30,
   "metadata": {},
   "outputs": [
    {
     "name": "stdout",
     "output_type": "stream",
     "text": [
      "KNN k=1 (less): 0.9923\n",
      "KNN k=3 (less): 0.9907\n",
      "KNN k=5 (less): 0.9907\n",
      "KNN k=7 (less): 0.9907\n",
      "KNN k=9 (less): 0.9884\n"
     ]
    }
   ],
   "source": [
    "for key, value in resultsSorted.items():\n",
    "    if \"less\" in key:\n",
    "        if \"KNN\" in key:\n",
    "            print(f\"{key}: {value:.4f}\")"
   ]
  },
  {
   "attachments": {},
   "cell_type": "markdown",
   "metadata": {},
   "source": [
    "### Error matrices and charts"
   ]
  },
  {
   "attachments": {},
   "cell_type": "markdown",
   "metadata": {},
   "source": [
    "Let's visualize some models."
   ]
  },
  {
   "cell_type": "code",
   "execution_count": 31,
   "metadata": {},
   "outputs": [],
   "source": [
    "keysToShow = [\"MLP ((50,), tanh, lbfgs, 0.1) (less)\", \"MLP ((50,), logistic, lbfgs, 0.1) (less)\", \"KNN k=1 (less)\",\n",
    "              \"KNN k=3 (less)\", \"Decision tree without limits (less)\", \"Naive Bayes (less)\"]\n",
    "dictfilt = lambda x, y: dict([ (i,x[i]) for i in x if i in set(y) ])\n",
    "someOfBestResults = dictfilt(results, keysToShow)"
   ]
  },
  {
   "cell_type": "code",
   "execution_count": 32,
   "metadata": {},
   "outputs": [
    {
     "name": "stdout",
     "output_type": "stream",
     "text": [
      "Decision tree without limits (less) - Accuracy: 0.9814\n"
     ]
    },
    {
     "data": {
      "image/png": "[encoded data removed]",
      "text/plain": [
       "<Figure size 432x288 with 2 Axes>"
      ]
     },
     "metadata": {
      "needs_background": "light"
     },
     "output_type": "display_data"
    },
    {
     "name": "stdout",
     "output_type": "stream",
     "text": [
      "Naive Bayes (less) - Accuracy: 0.9760\n"
     ]
    },
    {
     "data": {
      "image/png": "[encoded data removed]",
      "text/plain": [
       "<Figure size 432x288 with 2 Axes>"
      ]
     },
     "metadata": {
      "needs_background": "light"
     },
     "output_type": "display_data"
    },
    {
     "name": "stdout",
     "output_type": "stream",
     "text": [
      "KNN k=1 (less) - Accuracy: 0.9923\n"
     ]
    },
    {
     "data": {
      "image/png": "[encoded data removed]",
      "text/plain": [
       "<Figure size 432x288 with 2 Axes>"
      ]
     },
     "metadata": {
      "needs_background": "light"
     },
     "output_type": "display_data"
    },
    {
     "name": "stdout",
     "output_type": "stream",
     "text": [
      "KNN k=3 (less) - Accuracy: 0.9907\n"
     ]
    },
    {
     "data": {
      "image/png": "[encoded data removed]",
      "text/plain": [
       "<Figure size 432x288 with 2 Axes>"
      ]
     },
     "metadata": {
      "needs_background": "light"
     },
     "output_type": "display_data"
    },
    {
     "name": "stdout",
     "output_type": "stream",
     "text": [
      "MLP ((50,), logistic, lbfgs, 0.1) (less) - Accuracy: 0.9938\n"
     ]
    },
    {
     "data": {
      "image/png": "[encoded data removed]",
      "text/plain": [
       "<Figure size 432x288 with 2 Axes>"
      ]
     },
     "metadata": {
      "needs_background": "light"
     },
     "output_type": "display_data"
    },
    {
     "name": "stdout",
     "output_type": "stream",
     "text": [
      "MLP ((50,), tanh, lbfgs, 0.1) (less) - Accuracy: 0.9946\n"
     ]
    },
    {
     "data": {
      "image/png": "[encoded data removed]",
      "text/plain": [
       "<Figure size 432x288 with 2 Axes>"
      ]
     },
     "metadata": {
      "needs_background": "light"
     },
     "output_type": "display_data"
    }
   ],
   "source": [
    "def plot_confusion_matrix_custom(cm, title='Confusion matrix'):\n",
    "    sns.heatmap(cm, annot=True, cmap='Blues', fmt='d')\n",
    "    plt.ylabel('True')\n",
    "    plt.xlabel('Predicted')\n",
    "    plt.title(title)\n",
    "    plt.show()\n",
    "\n",
    "for clf, name in zip(classifiers, names):\n",
    "    for resultName in someOfBestResults.keys():\n",
    "        if resultName == name:\n",
    "            y_pred = clf.predict(X_test_less)\n",
    "            accuracy = accuracy_score(y_test_less, y_pred)\n",
    "            print(f\"{name} - Accuracy: {accuracy:.4f}\")\n",
    "            \n",
    "            # Visualization of the error matrix\n",
    "            matrix = confusion_matrix(y_test_less, y_pred)\n",
    "            plot_confusion_matrix_custom(matrix, title=name)"
   ]
  },
  {
   "attachments": {},
   "cell_type": "markdown",
   "metadata": {},
   "source": [
    "The limited memory of the hardware on which the calculations are performed did not allow us to maintain the learning curves. </br>\n",
    "Source: https://github.com/amueller/introduction_to_ml_with_python/issues/67 </br>\n",
    "There will be a learning curve in this work later."
   ]
  },
  {
   "attachments": {},
   "cell_type": "markdown",
   "metadata": {},
   "source": [
    "# Different classification"
   ]
  },
  {
   "attachments": {},
   "cell_type": "markdown",
   "metadata": {},
   "source": [
    "Let's also see how the models will deal with the classification of the wine quality column."
   ]
  },
  {
   "cell_type": "code",
   "execution_count": 33,
   "metadata": {},
   "outputs": [
    {
     "data": {
      "text/html": [
       "<div>\n",
       "<style scoped>\n",
       "    .dataframe tbody tr th:only-of-type {\n",
       "        vertical-align: middle;\n",
       "    }\n",
       "\n",
       "    .dataframe tbody tr th {\n",
       "        vertical-align: top;\n",
       "    }\n",
       "\n",
       "    .dataframe thead th {\n",
       "        text-align: right;\n",
       "    }\n",
       "</style>\n",
       "<table border=\"1\" class=\"dataframe\">\n",
       "  <thead>\n",
       "    <tr style=\"text-align: right;\">\n",
       "      <th></th>\n",
       "      <th>type</th>\n",
       "      <th>fixed acidity</th>\n",
       "      <th>volatile acidity</th>\n",
       "      <th>citric acid</th>\n",
       "      <th>residual sugar</th>\n",
       "      <th>chlorides</th>\n",
       "      <th>free sulfur dioxide</th>\n",
       "      <th>total sulfur dioxide</th>\n",
       "      <th>density</th>\n",
       "      <th>pH</th>\n",
       "      <th>sulphates</th>\n",
       "      <th>alcohol</th>\n",
       "      <th>quality</th>\n",
       "    </tr>\n",
       "  </thead>\n",
       "  <tbody>\n",
       "    <tr>\n",
       "      <th>0</th>\n",
       "      <td>white</td>\n",
       "      <td>7.0</td>\n",
       "      <td>0.27</td>\n",
       "      <td>0.36</td>\n",
       "      <td>20.7</td>\n",
       "      <td>0.045</td>\n",
       "      <td>45.0</td>\n",
       "      <td>170.0</td>\n",
       "      <td>1.0010</td>\n",
       "      <td>3.00</td>\n",
       "      <td>0.45</td>\n",
       "      <td>8.8</td>\n",
       "      <td>6</td>\n",
       "    </tr>\n",
       "    <tr>\n",
       "      <th>1</th>\n",
       "      <td>white</td>\n",
       "      <td>6.3</td>\n",
       "      <td>0.30</td>\n",
       "      <td>0.34</td>\n",
       "      <td>1.6</td>\n",
       "      <td>0.049</td>\n",
       "      <td>14.0</td>\n",
       "      <td>132.0</td>\n",
       "      <td>0.9940</td>\n",
       "      <td>3.30</td>\n",
       "      <td>0.49</td>\n",
       "      <td>9.5</td>\n",
       "      <td>6</td>\n",
       "    </tr>\n",
       "    <tr>\n",
       "      <th>2</th>\n",
       "      <td>white</td>\n",
       "      <td>8.1</td>\n",
       "      <td>0.28</td>\n",
       "      <td>0.40</td>\n",
       "      <td>6.9</td>\n",
       "      <td>0.050</td>\n",
       "      <td>30.0</td>\n",
       "      <td>97.0</td>\n",
       "      <td>0.9951</td>\n",
       "      <td>3.26</td>\n",
       "      <td>0.44</td>\n",
       "      <td>10.1</td>\n",
       "      <td>6</td>\n",
       "    </tr>\n",
       "    <tr>\n",
       "      <th>3</th>\n",
       "      <td>white</td>\n",
       "      <td>7.2</td>\n",
       "      <td>0.23</td>\n",
       "      <td>0.32</td>\n",
       "      <td>8.5</td>\n",
       "      <td>0.058</td>\n",
       "      <td>47.0</td>\n",
       "      <td>186.0</td>\n",
       "      <td>0.9956</td>\n",
       "      <td>3.19</td>\n",
       "      <td>0.40</td>\n",
       "      <td>9.9</td>\n",
       "      <td>6</td>\n",
       "    </tr>\n",
       "    <tr>\n",
       "      <th>4</th>\n",
       "      <td>white</td>\n",
       "      <td>7.2</td>\n",
       "      <td>0.23</td>\n",
       "      <td>0.32</td>\n",
       "      <td>8.5</td>\n",
       "      <td>0.058</td>\n",
       "      <td>47.0</td>\n",
       "      <td>186.0</td>\n",
       "      <td>0.9956</td>\n",
       "      <td>3.19</td>\n",
       "      <td>0.40</td>\n",
       "      <td>9.9</td>\n",
       "      <td>6</td>\n",
       "    </tr>\n",
       "  </tbody>\n",
       "</table>\n",
       "</div>"
      ],
      "text/plain": [
       "    type  fixed acidity  volatile acidity  citric acid  residual sugar  \\\n",
       "0  white            7.0              0.27         0.36            20.7   \n",
       "1  white            6.3              0.30         0.34             1.6   \n",
       "2  white            8.1              0.28         0.40             6.9   \n",
       "3  white            7.2              0.23         0.32             8.5   \n",
       "4  white            7.2              0.23         0.32             8.5   \n",
       "\n",
       "   chlorides  free sulfur dioxide  total sulfur dioxide  density    pH  \\\n",
       "0      0.045                 45.0                 170.0   1.0010  3.00   \n",
       "1      0.049                 14.0                 132.0   0.9940  3.30   \n",
       "2      0.050                 30.0                  97.0   0.9951  3.26   \n",
       "3      0.058                 47.0                 186.0   0.9956  3.19   \n",
       "4      0.058                 47.0                 186.0   0.9956  3.19   \n",
       "\n",
       "   sulphates  alcohol  quality  \n",
       "0       0.45      8.8        6  \n",
       "1       0.49      9.5        6  \n",
       "2       0.44     10.1        6  \n",
       "3       0.40      9.9        6  \n",
       "4       0.40      9.9        6  "
      ]
     },
     "execution_count": 33,
     "metadata": {},
     "output_type": "execute_result"
    }
   ],
   "source": [
    "data.head()"
   ]
  },
  {
   "cell_type": "code",
   "execution_count": 34,
   "metadata": {},
   "outputs": [],
   "source": [
    "dataMore = data.copy()\n",
    "dataMore.fillna(dataMore.median(numeric_only=True), inplace=True)\n",
    "dataMore = dataMore.replace({'type': {'white': 0, 'red': 1}})\n",
    "\n",
    "X_more = dataMore.drop('quality', axis=1)\n",
    "y_more = dataMore['quality']\n",
    "\n",
    "scaler = StandardScaler()\n",
    "X_more = scaler.fit_transform(X_more)\n",
    "\n",
    "X_train_more, X_test_more, y_train_more, y_test_more = train_test_split(X_more, y_more, test_size=0.2, random_state=269402)\n",
    "\n",
    "classifiersQuality = []\n",
    "namesQuality = []"
   ]
  },
  {
   "attachments": {},
   "cell_type": "markdown",
   "metadata": {},
   "source": [
    "### Decision tree"
   ]
  },
  {
   "cell_type": "code",
   "execution_count": 35,
   "metadata": {},
   "outputs": [],
   "source": [
    "dt_more_large = DecisionTreeClassifier(random_state=269402)\n",
    "dt_more_large.fit(X_train_more, y_train_more)\n",
    "classifiersQuality.append(dt_more_large)\n",
    "namesQuality.append(f\"Decision tree without limits (more)\");"
   ]
  },
  {
   "attachments": {},
   "cell_type": "markdown",
   "metadata": {},
   "source": [
    "### Naive Bayes"
   ]
  },
  {
   "cell_type": "code",
   "execution_count": 36,
   "metadata": {},
   "outputs": [],
   "source": [
    "nb_more = GaussianNB()\n",
    "nb_more.fit(X_train_more, y_train_more)\n",
    "classifiersQuality.append(nb_more)\n",
    "namesQuality.append(f\"Naive Bayes (more)\");"
   ]
  },
  {
   "attachments": {},
   "cell_type": "markdown",
   "metadata": {},
   "source": [
    "### K-Nearest Neighbors"
   ]
  },
  {
   "cell_type": "code",
   "execution_count": 37,
   "metadata": {},
   "outputs": [],
   "source": [
    "k_values = [1, 3, 5, 7, 9]\n",
    "for k in k_values:\n",
    "    knn_clf = KNeighborsClassifier(n_neighbors=k)\n",
    "    knn_clf.fit(X_train_more, y_train_more)\n",
    "    classifiersQuality.append(knn_clf)\n",
    "    namesQuality.append(f'KNN k={k} (more)')"
   ]
  },
  {
   "attachments": {},
   "cell_type": "markdown",
   "metadata": {},
   "source": [
    "### Neural network"
   ]
  },
  {
   "cell_type": "code",
   "execution_count": 38,
   "metadata": {},
   "outputs": [],
   "source": [
    "hidden_layer_sizes = [(100,), (150,)]\n",
    "activations = ['tanh', 'relu']\n",
    "solvers = ['sgd', 'adam']\n",
    "alphas = [0.0001, 0.001, 0.01, 0.1]\n",
    "\n",
    "for hidden_layer_size in hidden_layer_sizes:\n",
    "    for activation in activations:\n",
    "        for solver in solvers:\n",
    "            for alpha in alphas:\n",
    "                mlp = MLPClassifier(hidden_layer_sizes=hidden_layer_size, activation=activation,\n",
    "                                    solver=solver, alpha=alpha, max_iter=15000, random_state=269402)\n",
    "                mlp.fit(X_train_more, y_train_more)\n",
    "                classifiersQuality.append(mlp)\n",
    "                namesQuality.append(f\"MLP ({hidden_layer_size}, {activation}, {solver}, {alpha}) (more)\")"
   ]
  },
  {
   "attachments": {},
   "cell_type": "markdown",
   "metadata": {},
   "source": [
    "# Results"
   ]
  },
  {
   "cell_type": "code",
   "execution_count": 39,
   "metadata": {},
   "outputs": [],
   "source": [
    "resultsQuality = {}\n",
    "for clf, name in zip(classifiersQuality, namesQuality):\n",
    "    y_pred = clf.predict(X_test_more)\n",
    "    accuracy = accuracy_score(y_test_more, y_pred)\n",
    "    resultsQuality[name] = accuracy;"
   ]
  },
  {
   "cell_type": "code",
   "execution_count": 40,
   "metadata": {},
   "outputs": [
    {
     "name": "stdout",
     "output_type": "stream",
     "text": [
      "KNN k=1 (more): 0.6385\n",
      "Decision tree without limits (more): 0.6108\n",
      "MLP ((150,), relu, adam, 0.0001) (more): 0.5869\n",
      "MLP ((100,), relu, sgd, 0.1) (more): 0.5846\n",
      "MLP ((150,), tanh, adam, 0.01) (more): 0.5815\n",
      "MLP ((150,), relu, sgd, 0.01) (more): 0.5800\n",
      "MLP ((100,), relu, sgd, 0.001) (more): 0.5792\n",
      "MLP ((100,), relu, sgd, 0.01) (more): 0.5777\n",
      "MLP ((150,), tanh, adam, 0.0001) (more): 0.5777\n",
      "MLP ((100,), relu, sgd, 0.0001) (more): 0.5769\n",
      "MLP ((100,), relu, adam, 0.01) (more): 0.5762\n",
      "MLP ((150,), relu, sgd, 0.1) (more): 0.5762\n",
      "MLP ((150,), relu, adam, 0.01) (more): 0.5762\n",
      "MLP ((150,), tanh, sgd, 0.01) (more): 0.5754\n",
      "MLP ((150,), tanh, adam, 0.001) (more): 0.5746\n",
      "MLP ((150,), relu, adam, 0.001) (more): 0.5738\n",
      "MLP ((150,), relu, sgd, 0.001) (more): 0.5700\n",
      "MLP ((150,), tanh, sgd, 0.0001) (more): 0.5677\n",
      "MLP ((150,), tanh, sgd, 0.001) (more): 0.5669\n",
      "MLP ((150,), tanh, sgd, 0.1) (more): 0.5669\n",
      "MLP ((150,), relu, adam, 0.1) (more): 0.5654\n",
      "MLP ((100,), tanh, sgd, 0.01) (more): 0.5638\n",
      "MLP ((100,), tanh, sgd, 0.0001) (more): 0.5623\n",
      "MLP ((100,), tanh, sgd, 0.001) (more): 0.5623\n",
      "MLP ((100,), tanh, sgd, 0.1) (more): 0.5623\n",
      "MLP ((100,), relu, adam, 0.1) (more): 0.5623\n",
      "KNN k=7 (more): 0.5615\n",
      "MLP ((100,), tanh, adam, 0.1) (more): 0.5600\n",
      "MLP ((100,), tanh, adam, 0.0001) (more): 0.5592\n",
      "MLP ((100,), relu, adam, 0.001) (more): 0.5592\n",
      "MLP ((150,), relu, sgd, 0.0001) (more): 0.5592\n",
      "KNN k=5 (more): 0.5585\n",
      "MLP ((100,), tanh, adam, 0.01) (more): 0.5569\n",
      "MLP ((100,), relu, adam, 0.0001) (more): 0.5569\n",
      "MLP ((100,), tanh, adam, 0.001) (more): 0.5562\n",
      "MLP ((150,), tanh, adam, 0.1) (more): 0.5562\n",
      "KNN k=9 (more): 0.5546\n",
      "KNN k=3 (more): 0.5531\n",
      "Naive Bayes (more): 0.4069\n"
     ]
    }
   ],
   "source": [
    "resultsSortedQuality = dict(sorted(resultsQuality.items(), key=lambda item: item[1], reverse=True))\n",
    "for key, value in resultsSortedQuality.items():\n",
    "    print(f\"{key}: {value:.4f}\")"
   ]
  },
  {
   "attachments": {},
   "cell_type": "markdown",
   "metadata": {},
   "source": [
    "When classifying wine quality, our models performed significantly worse than before. The k=1 KNN method is the best, but it could not be fully trusted with an accuracy of 64%."
   ]
  },
  {
   "cell_type": "code",
   "execution_count": 41,
   "metadata": {},
   "outputs": [
    {
     "name": "stdout",
     "output_type": "stream",
     "text": [
      "Decision tree without limits (more) - Accuracy: 0.6108\n"
     ]
    },
    {
     "data": {
      "image/png": "[encoded data removed]",
      "text/plain": [
       "<Figure size 432x288 with 2 Axes>"
      ]
     },
     "metadata": {
      "needs_background": "light"
     },
     "output_type": "display_data"
    },
    {
     "name": "stdout",
     "output_type": "stream",
     "text": [
      "Naive Bayes (more) - Accuracy: 0.4069\n"
     ]
    },
    {
     "data": {
      "image/png": "[encoded data removed]",
      "text/plain": [
       "<Figure size 432x288 with 2 Axes>"
      ]
     },
     "metadata": {
      "needs_background": "light"
     },
     "output_type": "display_data"
    },
    {
     "name": "stdout",
     "output_type": "stream",
     "text": [
      "KNN k=1 (more) - Accuracy: 0.6385\n"
     ]
    },
    {
     "data": {
      "image/png": "[encoded data removed]",
      "text/plain": [
       "<Figure size 432x288 with 2 Axes>"
      ]
     },
     "metadata": {
      "needs_background": "light"
     },
     "output_type": "display_data"
    },
    {
     "name": "stdout",
     "output_type": "stream",
     "text": [
      "KNN k=9 (more) - Accuracy: 0.5546\n"
     ]
    },
    {
     "data": {
      "image/png": "[encoded data removed]",
      "text/plain": [
       "<Figure size 432x288 with 2 Axes>"
      ]
     },
     "metadata": {
      "needs_background": "light"
     },
     "output_type": "display_data"
    },
    {
     "name": "stdout",
     "output_type": "stream",
     "text": [
      "MLP ((100,), relu, sgd, 0.01) (more) - Accuracy: 0.5777\n"
     ]
    },
    {
     "data": {
      "image/png": "[encoded data removed]",
      "text/plain": [
       "<Figure size 432x288 with 2 Axes>"
      ]
     },
     "metadata": {
      "needs_background": "light"
     },
     "output_type": "display_data"
    },
    {
     "data": {
      "image/png": "[encoded data removed]",
      "text/plain": [
       "<Figure size 432x288 with 1 Axes>"
      ]
     },
     "metadata": {
      "needs_background": "light"
     },
     "output_type": "display_data"
    },
    {
     "name": "stdout",
     "output_type": "stream",
     "text": [
      "MLP ((100,), relu, sgd, 0.1) (more) - Accuracy: 0.5846\n"
     ]
    },
    {
     "data": {
      "image/png": "[encoded data removed]",
      "text/plain": [
       "<Figure size 432x288 with 2 Axes>"
      ]
     },
     "metadata": {
      "needs_background": "light"
     },
     "output_type": "display_data"
    },
    {
     "data": {
      "image/png": "[encoded data removed]",
      "text/plain": [
       "<Figure size 432x288 with 1 Axes>"
      ]
     },
     "metadata": {
      "needs_background": "light"
     },
     "output_type": "display_data"
    }
   ],
   "source": [
    "keysToShow = [\"KNN k=1 (more)\", \"KNN k=9 (more)\", \"MLP ((100,), relu, sgd, 0.01) (more)\",\n",
    "              \"MLP ((100,), relu, sgd, 0.1) (more)\", \"Naive Bayes (more)\", \"Decision tree without limits (more)\"]\n",
    "dictfilt = lambda x, y: dict([ (i,x[i]) for i in x if i in set(y) ])\n",
    "someOfBestResultsQuality = dictfilt(results, keysToShow)\n",
    "\n",
    "for clf, name in zip(classifiersQuality, namesQuality):\n",
    "    for resultName in someOfBestResultsQuality.keys():\n",
    "        if resultName == name:\n",
    "            y_pred = clf.predict(X_test_more)\n",
    "            accuracy = accuracy_score(y_test_more, y_pred)\n",
    "            print(f\"{name} - Accuracy: {accuracy:.4f}\")\n",
    "            \n",
    "            # Wizualizacja macierzy błędów\n",
    "            matrix = confusion_matrix(y_test_more, y_pred)\n",
    "            plot_confusion_matrix_custom(matrix, title=name)\n",
    "            \n",
    "            # Krzywa uczenia się dla sieci neuronowych\n",
    "            if isinstance(clf, MLPClassifier):\n",
    "                plt.plot(clf.loss_curve_)\n",
    "                plt.title(f\"Learning curve - {name}\")\n",
    "                plt.xlabel(\"Iterations\")\n",
    "                plt.ylabel(\"Loss function\")\n",
    "                plt.show()"
   ]
  },
  {
   "attachments": {},
   "cell_type": "markdown",
   "metadata": {},
   "source": [
    "#### Thank you for taking the time to read this work. </br>\n",
    "#### Report prepared by Kamil Schlagowski"
   ]
  },
  {
   "attachments": {},
   "cell_type": "markdown",
   "metadata": {},
   "source": [
    "# Bibliography"
   ]
  },
  {
   "attachments": {},
   "cell_type": "markdown",
   "metadata": {},
   "source": [
    "Materials used when writing the project:\n",
    "\n",
    "- lectures on computational intelligence\n",
    "\n",
    "\n",
    "- https://www.kaggle.com/datasets/rajyellow46/wine-quality\n",
    "\n",
    "- https://github.com/amueller/introduction_to_ml_with_python/issues/67\n",
    "\n",
    "- https://datascience.stackexchange.com/questions/20199/train-test-split-error-found-input-variables-with-inconsistent-numbers-of-sam\n",
    "\n",
    "- https://jakbadacdane.pl/jak-wyhodowac-drzewo-decyzyjne/\n",
    "\n",
    "- https://scikit-learn.org/stable/modules/preprocessing.html\n",
    "\n",
    "- https://pandas.pydata.org/docs/reference/api/pandas.DataFrame.copy.html\n",
    "- https://pandas.pydata.org/pandas-docs/stable/reference/api/pandas.get_dummies.html\n",
    "\n",
    "- https://realpython.com/sort-python-dictionary/\n",
    "- https://realpython.com/python-sort/\n",
    "\n",
    "- https://stackoverflow.com/questions/70897794/finding-the-mean-of-nuisance-columns-in-dataframe-error\n",
    "- https://stackoverflow.com/questions/49871101/how-to-select-range-of-rows-in-pandas#49871201\n",
    "- https://stackoverflow.com/questions/37154329/jupyter-notebook-command-for-hide-the-output-of-a-cell\n",
    "- https://stackoverflow.com/questions/2590503/how-to-find-whether-a-string-is-contained-in-another-string#2590519\n",
    "- https://stackoverflow.com/questions/2590503/how-to-find-whether-a-string-is-contained-in-another-string#2590519\n",
    "- https://stackoverflow.com/questions/3420122/filter-dict-to-contain-only-certain-keys\n",
    "\n",
    "- Github Copilot also helped me:\n",
    "</br> https://github.com/features/copilot\n",
    "- and Chat GPT 4.0:\n",
    "</br> https://chat.openai.com/?model=gpt-4"
   ]
  }
 ],
 "metadata": {
  "kernelspec": {
   "display_name": "Python 3",
   "language": "python",
   "name": "python3"
  },
  "language_info": {
   "codemirror_mode": {
    "name": "ipython",
    "version": 3
   },
   "file_extension": ".py",
   "mimetype": "text/x-python",
   "name": "python",
   "nbconvert_exporter": "python",
   "pygments_lexer": "ipython3",
   "version": "3.10.11"
  },
  "orig_nbformat": 4
 },
 "nbformat": 4,
 "nbformat_minor": 2
}
